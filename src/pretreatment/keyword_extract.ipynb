{
 "cells": [
  {
   "cell_type": "code",
   "execution_count": 8,
   "metadata": {},
   "outputs": [],
   "source": [
    "import MeCab\n",
    "import re\n",
    "import os\n",
    "import json\n",
    "\n",
    "\n",
    "def extract_proper_nouns(text):\n",
    "    # MeCab Taggerを初期化\n",
    "    tagger = MeCab.Tagger()\n",
    "\n",
    "    # ルビや注釈を除去\n",
    "    text = re.sub(r'《.*?》', '', text)\n",
    "    text = re.sub(r'［＃.*?］', '', text)\n",
    "    text = re.sub(r'｜', '', text)\n",
    "\n",
    "    # 解析結果を取得\n",
    "    node = tagger.parseToNode(text)\n",
    "    \n",
    "    # 固有名詞を保存するリスト\n",
    "    proper_nouns = []\n",
    "    \n",
    "    # ノードを辿りながら解析\n",
    "    while node:\n",
    "        features = node.feature.split(',')\n",
    "        if features[0] == '名詞' and features[1] == '固有名詞':\n",
    "            proper_nouns.append(node.surface)\n",
    "        node = node.next\n",
    "    \n",
    "    # 重複を除いたリストを返す\n",
    "    return list(set(proper_nouns))\n",
    "\n",
    "# ./data/originalフォルダ内の全ての.txtファイルを順に処理\n",
    "input_folder = \"../data/translated_claude\"\n",
    "output_folder = \"keyword_output\"\n",
    "os.makedirs(output_folder, exist_ok=True)\n",
    "\n",
    "\n",
    "for filename in os.listdir(input_folder):\n",
    "    if filename.endswith(\".txt\"):\n",
    "        file_path = os.path.join(input_folder, filename)\n",
    "        with open(file_path, 'r', encoding='utf-8') as file:\n",
    "            text = file.read()\n",
    "            proper_nouns = extract_proper_nouns(text)\n",
    "            \n",
    "            # 出力ファイルに固有名詞を書き込む（リスト形式、改行なし）\n",
    "            output_file_path = os.path.join(output_folder, filename)\n",
    "            with open(output_file_path, 'w', encoding='utf-8') as output_file:\n",
    "                output_file.write(json.dumps(proper_nouns, ensure_ascii=False))"
   ]
  }
 ],
 "metadata": {
  "kernelspec": {
   "display_name": "rag1",
   "language": "python",
   "name": "python3"
  },
  "language_info": {
   "codemirror_mode": {
    "name": "ipython",
    "version": 3
   },
   "file_extension": ".py",
   "mimetype": "text/x-python",
   "name": "python",
   "nbconvert_exporter": "python",
   "pygments_lexer": "ipython3",
   "version": "3.10.8"
  }
 },
 "nbformat": 4,
 "nbformat_minor": 2
}
